{
 "cells": [
  {
   "attachments": {},
   "cell_type": "markdown",
   "metadata": {},
   "source": [
    "## Which images cause most errors during cross testing for LCC and for SiW?"
   ]
  },
  {
   "attachments": {},
   "cell_type": "markdown",
   "metadata": {},
   "source": [
    "### Some helper functions"
   ]
  },
  {
   "cell_type": "code",
   "execution_count": null,
   "metadata": {},
   "outputs": [],
   "source": [
    "import json\n",
    "import os\n",
    "\n",
    "import matplotlib.pyplot as plt\n",
    "import numpy as np\n",
    "import pandas as pd\n",
    "from PIL import Image\n",
    "\n",
    "\n",
    "def find_worst_images(scores_path, label, n=10):\n",
    "    test_results = json.load(open(scores_path))\n",
    "    df = pd.DataFrame(test_results[\"scores\"])\n",
    "    df = df[df[\"label\"] == label]\n",
    "\n",
    "    if label == 0:\n",
    "        df = df.sort_values(by=\"score\", ascending=False)\n",
    "    elif label == 1:\n",
    "        df = df.sort_values(by=\"score\")\n",
    "    else:\n",
    "        raise ValueError(\"label must be 0 or 1\")\n",
    "\n",
    "    unique_videos = []\n",
    "    sorted_images = []\n",
    "\n",
    "    for index, row in df.iterrows():\n",
    "        if \"siwm2lcc\" in scores_path:\n",
    "            # In LCC folder names are just real/spoof so I take the video name from the image name, e.g.: YOUTUBE_id124_s0\n",
    "            filename = row[\"name\"].split(\"/\")[4]\n",
    "            video_name = \"_\".join(filename.split(\"_\")[:-1])\n",
    "        else:\n",
    "            # In SiW I only take different videos e.g.: Live_85\n",
    "            video_name = os.path.dirname(row[\"name\"]).split(\"/\")[-1]\n",
    "        if video_name not in unique_videos:\n",
    "            sorted_images.append(row[\"name\"])\n",
    "            unique_videos.append(video_name)\n",
    "            if len(sorted_images) == n:\n",
    "                break\n",
    "\n",
    "    df_sorted = pd.DataFrame(sorted_images, columns=[\"name\"])\n",
    "\n",
    "    return df_sorted[\"name\"].head(n)\n",
    "\n",
    "\n",
    "def show_worst_images(img_paths, title):\n",
    "    num_images = len(img_paths)\n",
    "    num_rows = min(5, num_images)\n",
    "    num_cols = (num_images + num_rows - 1) // num_rows\n",
    "\n",
    "    fig, axs = plt.subplots(num_rows, num_cols, figsize=(15, 10))\n",
    "    fig.subplots_adjust(wspace=0.4, hspace=0.4)\n",
    "\n",
    "    for i, img_path in enumerate(img_paths):\n",
    "        img = Image.open(img_path)\n",
    "        img = img.resize((300, 300))\n",
    "        row_idx = i // num_cols\n",
    "        col_idx = i % num_cols\n",
    "        axs[row_idx, col_idx].imshow(img)\n",
    "        axs[row_idx, col_idx].axis(\"off\")\n",
    "\n",
    "        if \"data/siwm/\" in img_path:\n",
    "            title_text = os.path.basename(img_path).split(\"--\")[0]\n",
    "        else:\n",
    "            filename = img_path.split(\"/\")[4]\n",
    "            video_name = \"_\".join(filename.split(\"_\")[:-1])\n",
    "            title_text = video_name\n",
    "\n",
    "        # Truncate the title if it's too long\n",
    "        max_title_length = 15  # Define the maximum length for the title\n",
    "        if len(title_text) > max_title_length:\n",
    "            title_text = title_text[:max_title_length] + \"...\"\n",
    "\n",
    "        axs[row_idx, col_idx].set_title(title_text)\n",
    "\n",
    "    # Remove any empty subplots\n",
    "    if num_images < num_rows * num_cols:\n",
    "        for i in range(num_images, num_rows * num_cols):\n",
    "            row_idx = i // num_cols\n",
    "            col_idx = i % num_cols\n",
    "            fig.delaxes(axs[row_idx, col_idx])\n",
    "\n",
    "    plt.suptitle(title, fontsize=16)\n",
    "    plt.show()"
   ]
  },
  {
   "attachments": {},
   "cell_type": "markdown",
   "metadata": {},
   "source": [
    "### LCC-to-SiWM"
   ]
  },
  {
   "cell_type": "code",
   "execution_count": null,
   "metadata": {},
   "outputs": [],
   "source": [
    "lcc2siwm_scores = \"logs/lcc2siwm/stats/lcc2siwm-test/epoch_000.json\""
   ]
  },
  {
   "attachments": {},
   "cell_type": "markdown",
   "metadata": {},
   "source": [
    "#### Live Images"
   ]
  },
  {
   "cell_type": "code",
   "execution_count": null,
   "metadata": {},
   "outputs": [],
   "source": [
    "worst_live_images = find_worst_images(lcc2siwm_scores, label=1, n=30)\n",
    "worst_live_images.to_csv(\"logs/lcc2siwm/stats/lcc2siwm-test/worst_live_images.csv\")\n",
    "show_worst_images(worst_live_images, \"Worst live images - LCC2SIWM\")"
   ]
  },
  {
   "attachments": {},
   "cell_type": "markdown",
   "metadata": {},
   "source": [
    "#### Spoof Images"
   ]
  },
  {
   "cell_type": "code",
   "execution_count": null,
   "metadata": {},
   "outputs": [],
   "source": [
    "worst_spoof_images = find_worst_images(lcc2siwm_scores, label=0, n=30)\n",
    "worst_spoof_images.to_csv(\"logs/lcc2siwm/stats/lcc2siwm-test/worst_spoof_images.csv\")\n",
    "show_worst_images(worst_spoof_images, \"Worst spoof images - LCC2SIWM\")"
   ]
  },
  {
   "attachments": {},
   "cell_type": "markdown",
   "metadata": {},
   "source": [
    "### SiW-to-LCC"
   ]
  },
  {
   "cell_type": "code",
   "execution_count": null,
   "metadata": {},
   "outputs": [],
   "source": [
    "siwm2lcc_scores = \"logs/siwm2lcc/stats/siwm2lcc-test/epoch_000.json\""
   ]
  },
  {
   "attachments": {},
   "cell_type": "markdown",
   "metadata": {},
   "source": [
    "#### Live Images"
   ]
  },
  {
   "cell_type": "code",
   "execution_count": null,
   "metadata": {},
   "outputs": [],
   "source": [
    "worst_live_images = find_worst_images(siwm2lcc_scores, label=1, n=30)\n",
    "worst_live_images.to_csv(\"logs/siwm2lcc/stats/siwm2lcc-test/worst_live_images.csv\")\n",
    "show_worst_images(worst_live_images, \"Worst live images - SIWM2LCC\")"
   ]
  },
  {
   "attachments": {},
   "cell_type": "markdown",
   "metadata": {},
   "source": [
    "#### Spoof Images"
   ]
  },
  {
   "cell_type": "code",
   "execution_count": null,
   "metadata": {},
   "outputs": [],
   "source": [
    "worst_spoof_images = find_worst_images(siwm2lcc_scores, label=0, n=30)\n",
    "worst_spoof_images.to_csv(\"logs/siwm2lcc/stats/siwm2lcc-test/worst_spoof_images.csv\")\n",
    "show_worst_images(worst_spoof_images, \"Worst spoof images - SIWM2LCC\")"
   ]
  },
  {
   "attachments": {},
   "cell_type": "markdown",
   "metadata": {},
   "source": [
    "## LoRA"
   ]
  },
  {
   "attachments": {},
   "cell_type": "markdown",
   "metadata": {},
   "source": [
    "### LCC-to-SiWM"
   ]
  },
  {
   "cell_type": "code",
   "execution_count": null,
   "metadata": {},
   "outputs": [],
   "source": [
    "os.chdir(os.getenv(\"HOME\") + \"/spoof\")\n",
    "lcc2siwm_scores = \"logs/lora/lora_lcc2siwm/LCC-to-SiW-M.json\""
   ]
  },
  {
   "cell_type": "code",
   "execution_count": null,
   "metadata": {},
   "outputs": [],
   "source": [
    "worst_live_images = find_worst_images(lcc2siwm_scores, label=1, n=30)\n",
    "worst_live_images.to_csv(\"logs/lora/lora_lcc2siwm/worst_live_images.csv\")\n",
    "show_worst_images(worst_live_images, \"Worst live images - LCC2SIWM - LORA\")"
   ]
  },
  {
   "cell_type": "code",
   "execution_count": null,
   "metadata": {},
   "outputs": [],
   "source": [
    "worst_spoof_images = find_worst_images(lcc2siwm_scores, label=0, n=30)\n",
    "worst_spoof_images.to_csv(\"logs/lora/lora_lcc2siwm/worst_spoof_images.csv\")\n",
    "show_worst_images(worst_spoof_images, \"Worst spoof images - LCC2SIWM - LORA\")"
   ]
  },
  {
   "attachments": {},
   "cell_type": "markdown",
   "metadata": {},
   "source": [
    "### SiWM-to-LCC"
   ]
  },
  {
   "cell_type": "code",
   "execution_count": null,
   "metadata": {},
   "outputs": [],
   "source": [
    "siwm2lcc_scores = \"logs/lora/lora_siwm2lcc/stats/test/s2l_lora.json\""
   ]
  },
  {
   "cell_type": "code",
   "execution_count": null,
   "metadata": {},
   "outputs": [],
   "source": [
    "worst_live_images = find_worst_images(siwm2lcc_scores, label=1, n=30)\n",
    "worst_live_images.to_csv(\"logs/lora/lora_siwm2lcc/worst_live_images.csv\")\n",
    "show_worst_images(worst_live_images, \"Worst live images - SIWM2LCC - LORA\")"
   ]
  },
  {
   "cell_type": "code",
   "execution_count": null,
   "metadata": {},
   "outputs": [],
   "source": [
    "worst_spoof_images = find_worst_images(siwm2lcc_scores, label=0, n=30)\n",
    "worst_spoof_images.to_csv(\"logs/lora/lora_siwm2lcc/worst_spoof_images.csv\")\n",
    "show_worst_images(worst_spoof_images, \"Worst spoof images - SIWM2LCC - LORA\")"
   ]
  },
  {
   "cell_type": "code",
   "execution_count": null,
   "metadata": {},
   "outputs": [],
   "source": []
  }
 ],
 "metadata": {
  "kernelspec": {
   "display_name": ".venv",
   "language": "python",
   "name": "python3"
  },
  "language_info": {
   "codemirror_mode": {
    "name": "ipython",
    "version": 3
   },
   "file_extension": ".py",
   "mimetype": "text/x-python",
   "name": "python",
   "nbconvert_exporter": "python",
   "pygments_lexer": "ipython3",
   "version": "3.11.3"
  }
 },
 "nbformat": 4,
 "nbformat_minor": 2
}
