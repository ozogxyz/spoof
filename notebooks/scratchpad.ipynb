{
 "cells": [
  {
   "cell_type": "code",
   "execution_count": null,
   "metadata": {},
   "outputs": [],
   "source": [
    "import csv\n",
    "import json\n",
    "import os\n",
    "\n",
    "import pandas as pd\n",
    "\n",
    "os.chdir(os.getenv(\"HOME\") + \"/spoof\")"
   ]
  },
  {
   "cell_type": "code",
   "execution_count": null,
   "metadata": {},
   "outputs": [],
   "source": [
    "scores_path = \"logs/siwm2lcc/stats/siwm2lcc-test/epoch_000.json\"\n",
    "# scores_path = \"logs/lcc2siwm/stats/lcc2siwm-test/epoch_000.json\"\n",
    "label = 1\n",
    "n = 10\n",
    "\n",
    "test_results = json.load(open(scores_path))\n",
    "df = pd.DataFrame(test_results[\"scores\"])\n",
    "df = df[df[\"label\"] == label]\n",
    "\n",
    "if label == 0:\n",
    "    df = df.sort_values(by=\"score\", ascending=False)\n",
    "elif label == 1:\n",
    "    df = df.sort_values(by=\"score\")\n",
    "else:\n",
    "    raise ValueError(\"label must be 0 or 1\")\n",
    "\n",
    "# return df[\"name\"].head(n)\n",
    "\n",
    "unique_videos = []\n",
    "sorted_images = []\n",
    "\n",
    "for index, row in df.iterrows():\n",
    "    if \"siwm2lcc\" in scores_path:\n",
    "        # In LCC folder names are just real/spoof so I take the video name from the image name, e.g.: YOUTUBE_id124_s0\n",
    "        filename = row[\"name\"].split(\"/\")[4]\n",
    "        video_name = \"_\".join(filename.split(\"_\")[:-1])\n",
    "        print(video_name)\n",
    "    else:\n",
    "        # In SiW I only take different videos e.g.: Live_85\n",
    "        video_name = os.path.dirname(row[\"name\"]).split(\"/\")[-1]\n",
    "        print(video_name)\n",
    "    if video_name not in unique_videos:\n",
    "        sorted_images.append(row[\"name\"])\n",
    "        unique_videos.append(video_name)\n",
    "        if len(sorted_images) == n:\n",
    "            break\n",
    "\n",
    "df_sorted = pd.DataFrame(sorted_images, columns=[\"name\"])\n",
    "df_sorted.to_csv(\"notebooks/sorted_images.csv\", index=False)"
   ]
  },
  {
   "cell_type": "code",
   "execution_count": null,
   "metadata": {},
   "outputs": [],
   "source": [
    "df_sorted = df_sorted.reset_index(drop=True)\n",
    "df_sorted.head(n)"
   ]
  },
  {
   "cell_type": "code",
   "execution_count": null,
   "metadata": {},
   "outputs": [],
   "source": []
  }
 ],
 "metadata": {
  "kernelspec": {
   "display_name": ".venv",
   "language": "python",
   "name": "python3"
  },
  "language_info": {
   "codemirror_mode": {
    "name": "ipython",
    "version": 3
   },
   "file_extension": ".py",
   "mimetype": "text/x-python",
   "name": "python",
   "nbconvert_exporter": "python",
   "pygments_lexer": "ipython3",
   "version": "3.11.3"
  }
 },
 "nbformat": 4,
 "nbformat_minor": 2
}
