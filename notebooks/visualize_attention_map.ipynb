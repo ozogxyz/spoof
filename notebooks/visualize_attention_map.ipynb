{
 "cells": [
  {
   "cell_type": "code",
   "execution_count": null,
   "metadata": {},
   "outputs": [],
   "source": [
    "import os\n",
    "\n",
    "import cv2\n",
    "import IPython.display as ipd\n",
    "import nopdb\n",
    "import numpy as np\n",
    "import PIL\n",
    "import torch\n",
    "from timm.data import create_transform, resolve_data_config\n",
    "\n",
    "from spoof.dataset.dataset import FaceDataset\n",
    "from spoof.model.vit import ViT"
   ]
  },
  {
   "attachments": {},
   "cell_type": "markdown",
   "metadata": {},
   "source": [
    "#### Helper functions"
   ]
  },
  {
   "cell_type": "code",
   "execution_count": null,
   "metadata": {},
   "outputs": [],
   "source": [
    "# Define some functions to map the tensor back to an image\n",
    "def inv_normalize(tensor):\n",
    "    \"\"\"Normalize an image tensor back to the 0-255 range.\"\"\"\n",
    "    tensor = (tensor - tensor.min()) / (tensor.max() - tensor.min()) * (256 - 1e-5)\n",
    "    return tensor\n",
    "\n",
    "\n",
    "def inv_transform(tensor, normalize=True):\n",
    "    \"\"\"Convert a tensor to an image.\"\"\"\n",
    "    tensor = inv_normalize(tensor)\n",
    "    array = tensor.detach().cpu().numpy()\n",
    "    array = array.transpose(1, 2, 0).astype(np.uint8)\n",
    "    return PIL.Image.fromarray(array)"
   ]
  },
  {
   "cell_type": "code",
   "execution_count": null,
   "metadata": {},
   "outputs": [],
   "source": [
    "# Setup dataset to get a random image and read it\n",
    "os.chdir(\"/Users/motorbreath/mipt/spoof/\")\n",
    "ds = FaceDataset(\"data/casia/test/annotations.csv\")\n",
    "idx = np.random.randint(0, len(ds))\n",
    "img_path = ds.annotations.iloc[idx, 0]\n",
    "img = cv2.imread(img_path)[..., ::-1]"
   ]
  },
  {
   "attachments": {},
   "cell_type": "markdown",
   "metadata": {},
   "source": [
    "#### Load our model "
   ]
  },
  {
   "cell_type": "code",
   "execution_count": null,
   "metadata": {},
   "outputs": [],
   "source": [
    "model = ViT()"
   ]
  },
  {
   "attachments": {},
   "cell_type": "markdown",
   "metadata": {},
   "source": [
    "#### Visualize the image using `timm` transform"
   ]
  },
  {
   "cell_type": "code",
   "execution_count": null,
   "metadata": {},
   "outputs": [],
   "source": [
    "# Get the function to transform the image to a tensor\n",
    "config = resolve_data_config({}, model=model)\n",
    "timm_transform = create_transform(**config)\n",
    "\n",
    "# Load the image and transform it to a tensor\n",
    "img = PIL.Image.open(img_path).convert(\"RGB\")\n",
    "input = timm_transform(img)\n",
    "inv_transform(input)"
   ]
  },
  {
   "attachments": {},
   "cell_type": "markdown",
   "metadata": {},
   "source": [
    "#### Visualize images using `FaceRegionRCXT` class"
   ]
  },
  {
   "cell_type": "code",
   "execution_count": null,
   "metadata": {},
   "outputs": [],
   "source": [
    "img = ds[idx][\"image\"]\n",
    "inv_transform(img)"
   ]
  },
  {
   "attachments": {},
   "cell_type": "markdown",
   "metadata": {},
   "source": [
    "#### Predict the scores"
   ]
  },
  {
   "cell_type": "code",
   "execution_count": null,
   "metadata": {},
   "outputs": [],
   "source": [
    "def predict(input):\n",
    "    \"\"\"Run the model on an input and print the predicted classes with probabilities.\"\"\"\n",
    "    with torch.no_grad():\n",
    "        score = model.get_liveness_score(model(input))\n",
    "    return score"
   ]
  },
  {
   "cell_type": "code",
   "execution_count": null,
   "metadata": {},
   "outputs": [],
   "source": [
    "score = predict(input).item()\n",
    "print(f\"score: {score:.3f}\")"
   ]
  },
  {
   "attachments": {},
   "cell_type": "markdown",
   "metadata": {},
   "source": [
    "#### Capture and plot the attention weights"
   ]
  },
  {
   "cell_type": "code",
   "execution_count": null,
   "metadata": {},
   "outputs": [],
   "source": [
    "def plot_attention(input, attn):\n",
    "    \"\"\"Given an input image and the attention tensor, plot the average attention weight given to each image patch by each attention head.\"\"\"\n",
    "    with torch.no_grad():\n",
    "        # Loop over attention heads\n",
    "        for h_weights in attn:\n",
    "            # h_weights = h_weights.mean(axis=-2)  # Average over all attention keys\n",
    "            h_weights = h_weights[1:]  # Skip the [class] token\n",
    "            plot_weights(input, h_weights)\n",
    "\n",
    "\n",
    "def plot_weights(input, patch_weights):\n",
    "    \"\"\"Display the image, dimming each patch according to the given weight.\"\"\"\n",
    "    # Multiply each patch of the input image by the corresponding weight\n",
    "    plot = inv_normalize(input.clone())\n",
    "    for i in range(patch_weights.shape[0]):\n",
    "        x = i * 16 % 224\n",
    "        y = i // (224 // 16) * 16\n",
    "        plot[:, y : y + 16, x : x + 16] *= patch_weights[i]\n",
    "    ipd.display(inv_transform(plot, normalize=False))\n",
    "\n",
    "\n",
    "def predict_with_attn(input, layer_idx):\n",
    "    with nopdb.capture_call(\n",
    "        model.extractor.encoder.layers[layer_idx].self_attention.forward\n",
    "    ) as attn_call:\n",
    "        score = predict(input).item()\n",
    "    return score, attn_call"
   ]
  },
  {
   "cell_type": "code",
   "execution_count": null,
   "metadata": {},
   "outputs": [],
   "source": [
    "score, attn_call = predict_with_attn(input, 0)\n",
    "\n",
    "print(f\"score: {score:.3f}\")\n",
    "print(f\"captured call: {attn_call.locals.keys()}\")"
   ]
  }
 ],
 "metadata": {
  "kernelspec": {
   "display_name": ".venv",
   "language": "python",
   "name": "python3"
  },
  "language_info": {
   "codemirror_mode": {
    "name": "ipython",
    "version": 3
   },
   "file_extension": ".py",
   "mimetype": "text/x-python",
   "name": "python",
   "nbconvert_exporter": "python",
   "pygments_lexer": "ipython3",
   "version": "3.11.3"
  }
 },
 "nbformat": 4,
 "nbformat_minor": 2
}
