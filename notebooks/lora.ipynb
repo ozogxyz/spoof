{
 "cells": [
  {
   "cell_type": "code",
   "execution_count": null,
   "metadata": {},
   "outputs": [],
   "source": [
    "import os\n",
    "\n",
    "import torch\n",
    "\n",
    "os.chdir(os.getenv(\"HOME\") + \"/spoof\")\n",
    "from src.spoof.model.vit import LVNetVitLora"
   ]
  },
  {
   "cell_type": "code",
   "execution_count": null,
   "metadata": {},
   "outputs": [],
   "source": [
    "def test_lora():\n",
    "    model = LVNetVitLora()\n",
    "    model.eval()\n",
    "\n",
    "    x = torch.rand(1, 3, 224, 224)\n",
    "    out = model(x)\n",
    "    print(out.shape)\n",
    "    assert out.shape == (1, 1)\n",
    "    assert out.min() >= 0\n",
    "    assert out.max() <= 1\n",
    "    assert False"
   ]
  }
 ],
 "metadata": {
  "kernelspec": {
   "display_name": ".venv",
   "language": "python",
   "name": "python3"
  },
  "language_info": {
   "codemirror_mode": {
    "name": "ipython",
    "version": 3
   },
   "file_extension": ".py",
   "mimetype": "text/x-python",
   "name": "python",
   "nbconvert_exporter": "python",
   "pygments_lexer": "ipython3",
   "version": "3.11.3"
  }
 },
 "nbformat": 4,
 "nbformat_minor": 2
}
