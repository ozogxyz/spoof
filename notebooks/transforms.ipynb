{
 "cells": [
  {
   "cell_type": "code",
   "execution_count": null,
   "metadata": {},
   "outputs": [],
   "source": [
    "import os\n",
    "\n",
    "import numpy as np\n",
    "import PIL\n",
    "\n",
    "from spoof.dataset.dataset import FaceDataset\n",
    "\n",
    "os.chdir(os.getenv(\"HOME\") + \"/spoof\")"
   ]
  },
  {
   "cell_type": "code",
   "execution_count": null,
   "metadata": {},
   "outputs": [],
   "source": [
    "def show_image(img_tensor):\n",
    "    \"\"\"Show an image.\"\"\"\n",
    "    img_tensor = (\n",
    "        (img_tensor - img_tensor.min()) / (img_tensor.max() - img_tensor.min()) * (256 - 1e-5)\n",
    "    )\n",
    "    array = img_tensor.detach().cpu().numpy()\n",
    "    array = array.transpose(1, 2, 0).astype(np.uint8)\n",
    "    return PIL.Image.fromarray(array)"
   ]
  },
  {
   "cell_type": "code",
   "execution_count": null,
   "metadata": {},
   "outputs": [],
   "source": [
    "ds = FaceDataset(\"data/siwm/live_paper_replay.csv\", mode=\"train\")\n",
    "sample = ds[0]\n",
    "img = sample[\"image\"]\n",
    "show_image(img)"
   ]
  },
  {
   "cell_type": "code",
   "execution_count": null,
   "metadata": {},
   "outputs": [],
   "source": [
    "print(f\"Image shape: {img.shape}\")\n",
    "print(f\"Image dtype: {img.dtype}\")\n",
    "print(f\"Image min: {img.min()}\")\n",
    "print(f\"Image max: {img.max()}\")\n",
    "print(f\"Image mean: {img.mean()}\")\n",
    "print(f\"Image std: {img.std()}\")"
   ]
  }
 ],
 "metadata": {
  "kernelspec": {
   "display_name": ".venv",
   "language": "python",
   "name": "python3"
  },
  "language_info": {
   "codemirror_mode": {
    "name": "ipython",
    "version": 3
   },
   "file_extension": ".py",
   "mimetype": "text/x-python",
   "name": "python",
   "nbconvert_exporter": "python",
   "pygments_lexer": "ipython3",
   "version": "3.11.3"
  }
 },
 "nbformat": 4,
 "nbformat_minor": 2
}
