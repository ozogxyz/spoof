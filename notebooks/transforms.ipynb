{
 "cells": [
  {
   "cell_type": "code",
   "execution_count": null,
   "metadata": {},
   "outputs": [],
   "source": [
    "import os\n",
    "\n",
    "import numpy as np\n",
    "import PIL\n",
    "\n",
    "from spoof.dataset.dataset import FaceDataset\n",
    "from spoof.dataset.transforms_img import *\n",
    "\n",
    "os.chdir(os.getenv(\"HOME\") + \"/spoof\")"
   ]
  },
  {
   "cell_type": "code",
   "execution_count": null,
   "metadata": {},
   "outputs": [],
   "source": [
    "def show_image(img_tensor):\n",
    "    \"\"\"Show an image.\"\"\"\n",
    "    img_tensor = (\n",
    "        (img_tensor - img_tensor.min()) / (img_tensor.max() - img_tensor.min()) * (256 - 1e-5)\n",
    "    )\n",
    "    array = img_tensor.detach().cpu().numpy()\n",
    "    array = array.transpose(1, 2, 0).astype(np.uint8)\n",
    "    return PIL.Image.fromarray(array)"
   ]
  },
  {
   "cell_type": "code",
   "execution_count": null,
   "metadata": {},
   "outputs": [],
   "source": [
    "ds = FaceDataset(\"data/siwm/train_live_paper_replay.csv\", mode=\"test\")\n",
    "sample = ds[0]\n",
    "img = sample[\"image\"]\n",
    "show_image(img)"
   ]
  },
  {
   "cell_type": "code",
   "execution_count": null,
   "metadata": {},
   "outputs": [],
   "source": [
    "jitter = ColorJitterCV(brightness=0.8, contrast=0.1, gamma=0.2, temp=0.8, p=0.75)\n",
    "blur = RandomGaussianBlur()\n",
    "flip = RandomHorizontalFlip(p=1.0)"
   ]
  },
  {
   "cell_type": "code",
   "execution_count": null,
   "metadata": {},
   "outputs": [],
   "source": [
    "show_image(jitter(img))\n",
    "show_image(blur(sample))\n",
    "show_image(flip(sample))"
   ]
  }
 ],
 "metadata": {
  "kernelspec": {
   "display_name": ".venv",
   "language": "python",
   "name": "python3"
  },
  "language_info": {
   "codemirror_mode": {
    "name": "ipython",
    "version": 3
   },
   "file_extension": ".py",
   "mimetype": "text/x-python",
   "name": "python",
   "nbconvert_exporter": "python",
   "pygments_lexer": "ipython3",
   "version": "3.11.4"
  }
 },
 "nbformat": 4,
 "nbformat_minor": 2
}
