{
 "cells": [
  {
   "cell_type": "code",
   "execution_count": 1,
   "metadata": {},
   "outputs": [],
   "source": [
    "import os\n",
    "import json\n",
    "import numpy as np\n",
    "import matplotlib.pyplot as plt\n",
    "from scipy.stats import norm"
   ]
  },
  {
   "cell_type": "code",
   "execution_count": 2,
   "metadata": {},
   "outputs": [],
   "source": [
    "def read_json_file(json_file):\n",
    "    with open(json_file) as f:\n",
    "        data = json.load(f)\n",
    "    return data\n",
    "\n",
    "\n",
    "def get_zeros(data):\n",
    "    zeros = []\n",
    "    for i in range(len(data[\"scores\"])):\n",
    "        if data[\"scores\"][i][\"label\"] == 0:\n",
    "            zeros.append(data[\"scores\"][i][\"score\"])\n",
    "    return zeros\n",
    "\n",
    "def get_ones(data):\n",
    "    ones = []\n",
    "    for i in range(len(data[\"scores\"])):\n",
    "        if data[\"scores\"][i][\"label\"] == 1:\n",
    "            ones.append(data[\"scores\"][i][\"score\"])\n",
    "    return ones\n",
    "\n",
    "def get_labels(data):\n",
    "    labels = []\n",
    "    for i in range(len(data[\"scores\"])):\n",
    "        labels.append(data[\"scores\"][i][\"label\"])\n",
    "    return labels"
   ]
  },
  {
   "cell_type": "code",
   "execution_count": null,
   "metadata": {},
   "outputs": [],
   "source": [
    "stats_dir = \"../logs/stats/val_base\"\n",
    "stats_files = os.listdir(stats_dir)\n",
    "num_rows = int(np.ceil(len(stats_files) / 3))\n",
    "\n",
    "for i, filename in enumerate(os.listdir(stats_dir)):\n",
    "    if filename.endswith(\".json\"):\n",
    "        json_file = os.path.join(stats_dir, filename)\n",
    "        data = read_json_file(json_file)\n",
    "        zeros = get_zeros(data)\n",
    "        ones = get_ones(data)\n",
    "        labels = get_labels(data)\n",
    "        title = filename.split(\".\")[0]\n",
    "\n",
    "        plt.rcParams[\"figure.figsize\"] = (20, 10)\n",
    "        plt.subplots_adjust(wspace=0.25, hspace=0.25)\n",
    "        plt.subplot(num_rows, 3, i + 1, title=title, xlabel=\"scores\", ylabel=\"num\")\n",
    "\n",
    "        mean_zeros = np.mean(zeros)\n",
    "        mean_ones = np.mean(ones)\n",
    "        std_zeros = np.std(zeros)\n",
    "        std_ones = np.std(ones)\n",
    "\n",
    "        step = len(zeros)\n",
    "        x = np.linspace(0, 1, step)\n",
    "\n",
    "        pdf_zeros = norm.pdf(x, mean_zeros, std_zeros)\n",
    "        pdf_ones = norm.pdf(x, mean_ones, std_ones)\n",
    "        idx = np.argwhere(np.diff(np.sign(pdf_zeros - pdf_ones))).flatten()\n",
    "\n",
    "        plt.plot(np.linspace(0, 1, step), pdf_zeros, color=\"r\", linewidth=2)\n",
    "        plt.plot(np.linspace(0, 1, step), pdf_ones, color=\"b\", linewidth=2)\n",
    "\n",
    "        plt.axvline(x=x[idx], color=\"g\", linestyle=\"--\", linewidth=2)\n",
    "        plt.text(x[idx] + 0.01, 0.5, f\"th_eer={x[idx][0]:.3f}\", rotation=90, fontsize=12)\n",
    "        plt.title(f\"{title}, eer={data['m_eer']:.3f}, acc={data['m_acc']:.3f}\", fontsize=12)\n",
    "plt.suptitle(\"Training\")"
   ]
  },
  {
   "cell_type": "code",
   "execution_count": null,
   "metadata": {},
   "outputs": [],
   "source": []
  }
 ],
 "metadata": {
  "kernelspec": {
   "display_name": ".venv",
   "language": "python",
   "name": "python3"
  },
  "language_info": {
   "codemirror_mode": {
    "name": "ipython",
    "version": 3
   },
   "file_extension": ".py",
   "mimetype": "text/x-python",
   "name": "python",
   "nbconvert_exporter": "python",
   "pygments_lexer": "ipython3",
   "version": "3.10.4"
  },
  "orig_nbformat": 4
 },
 "nbformat": 4,
 "nbformat_minor": 2
}
